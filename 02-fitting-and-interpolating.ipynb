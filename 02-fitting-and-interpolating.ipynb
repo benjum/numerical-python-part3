{
 "cells": [
  {
   "cell_type": "code",
   "execution_count": null,
   "metadata": {},
   "outputs": [],
   "source": [
    "import numpy as np\n",
    "import matplotlib.pyplot as plt"
   ]
  },
  {
   "cell_type": "markdown",
   "metadata": {},
   "source": [
    "# Our familiar example from previous weeks\n",
    "\n",
    "Compound interest calculator with annual contributions\n",
    "\n",
    "* p = principal\n",
    "* r = annual interest rate in percent\n",
    "* y = year of the balance\n",
    "* c = annual contribution (made at the start of the year)\n",
    "\n",
    "$$\\text{Balance}(y) = p(1 + r)^y + c\\left[\\frac{(1 + r)^{y+1} - (1 + r)}{r} \\right]$$"
   ]
  },
  {
   "cell_type": "code",
   "execution_count": null,
   "metadata": {},
   "outputs": [],
   "source": [
    "def investment_balance(principal,rate,year,contribution):\n",
    "    p = principal\n",
    "    r = rate/100\n",
    "    y = year\n",
    "    c = contribution\n",
    "    balance = p*(1 + r)**y + c*( ((1 + r)**(y+1) - (1 + r)) / r )\n",
    "    return balance"
   ]
  },
  {
   "cell_type": "code",
   "execution_count": null,
   "metadata": {},
   "outputs": [],
   "source": [
    "ratesnp = np.linspace(1,25,25)"
   ]
  },
  {
   "cell_type": "code",
   "execution_count": null,
   "metadata": {},
   "outputs": [],
   "source": [
    "ratesnp"
   ]
  },
  {
   "cell_type": "code",
   "execution_count": null,
   "metadata": {},
   "outputs": [],
   "source": [
    "ib = investment_balance(1000,ratesnp,10,1000)"
   ]
  },
  {
   "cell_type": "code",
   "execution_count": null,
   "metadata": {},
   "outputs": [],
   "source": [
    "plt.plot(ratesnp,ib,'ro')"
   ]
  },
  {
   "cell_type": "code",
   "execution_count": null,
   "metadata": {},
   "outputs": [],
   "source": [
    "np.polyfit(ratesnp, ib, 3)"
   ]
  },
  {
   "cell_type": "code",
   "execution_count": null,
   "metadata": {},
   "outputs": [],
   "source": [
    "p = np.poly1d(np.polyfit(ratesnp, ib, 3))"
   ]
  },
  {
   "cell_type": "code",
   "execution_count": null,
   "metadata": {},
   "outputs": [],
   "source": [
    "p"
   ]
  },
  {
   "cell_type": "code",
   "execution_count": null,
   "metadata": {},
   "outputs": [],
   "source": [
    "t = np.linspace(0, 25, 200)"
   ]
  },
  {
   "cell_type": "code",
   "execution_count": null,
   "metadata": {},
   "outputs": [],
   "source": [
    "plt.plot(ratesnp,ib,'ro',t,p(t))"
   ]
  },
  {
   "cell_type": "code",
   "execution_count": null,
   "metadata": {},
   "outputs": [],
   "source": [
    "p.coef"
   ]
  },
  {
   "cell_type": "code",
   "execution_count": null,
   "metadata": {},
   "outputs": [],
   "source": [
    "def f(x):\n",
    "    return 9.68449317e-01 * (x**3) + 1.11578231e+01 * (x**2) + 7.12885916e+02 * x + 1.09010025e+04"
   ]
  },
  {
   "cell_type": "code",
   "execution_count": null,
   "metadata": {},
   "outputs": [],
   "source": [
    "plt.plot(t,f(t))"
   ]
  },
  {
   "cell_type": "code",
   "execution_count": null,
   "metadata": {},
   "outputs": [],
   "source": [
    "import ipywidgets"
   ]
  },
  {
   "cell_type": "code",
   "execution_count": null,
   "metadata": {},
   "outputs": [],
   "source": [
    "def f(order=1):\n",
    "    t = np.linspace(0, 25, 200)\n",
    "    p = np.poly1d(np.polyfit(ratesnp, ib, order))\n",
    "    plt.plot(ratesnp,ib,'ro',t,p(t))\n",
    "\n",
    "ipywidgets.interact(f,order=(1,10))"
   ]
  },
  {
   "cell_type": "code",
   "execution_count": null,
   "metadata": {},
   "outputs": [],
   "source": [
    "x = np.linspace(0,5*np.pi,50)\n",
    "noise = (np.random.random(50)*2 - 1) * 0.1\n",
    "y = np.sin(x) + noise\n",
    "plt.plot(x,y,'ro')"
   ]
  },
  {
   "cell_type": "code",
   "execution_count": null,
   "metadata": {},
   "outputs": [],
   "source": [
    "def f(order=1):\n",
    "    t = np.linspace(0, 5*np.pi, 200)\n",
    "    p = np.poly1d(np.polyfit(x,y, order))\n",
    "    plt.plot(x,y,'ro',t,p(t))\n",
    "\n",
    "ipywidgets.interact(f,order=(1,10))"
   ]
  },
  {
   "cell_type": "code",
   "execution_count": null,
   "metadata": {},
   "outputs": [],
   "source": [
    "x = np.linspace(-3*np.pi,3*np.pi,20)\n",
    "noise = (np.random.random(20)*2 - 10) * 200\n",
    "y = x**3-6*x**2 + noise\n",
    "plt.plot(x,y,'ro')"
   ]
  },
  {
   "cell_type": "code",
   "execution_count": null,
   "metadata": {},
   "outputs": [],
   "source": [
    "def f(order=1):\n",
    "    p = np.poly1d(np.polyfit(x,y, order))\n",
    "    t = np.linspace(-3*np.pi, 3*np.pi, 500)\n",
    "    plt.plot(x,y,'ro',t,p(t))\n",
    "\n",
    "ipywidgets.interact(f,order=(1,20))"
   ]
  },
  {
   "cell_type": "markdown",
   "metadata": {},
   "source": [
    "# On to SciPy"
   ]
  },
  {
   "cell_type": "code",
   "execution_count": null,
   "metadata": {},
   "outputs": [],
   "source": [
    "from scipy.optimize import curve_fit"
   ]
  },
  {
   "cell_type": "code",
   "execution_count": null,
   "metadata": {},
   "outputs": [],
   "source": [
    "# use the same data from above\n",
    "x = np.linspace(-3*np.pi,3*np.pi,20)\n",
    "noise = (np.random.random(20)*2 - 10) * 200\n",
    "y = x**3-6*x**2 + noise\n",
    "\n",
    "# must provide a model function, with independent variable as the first parameter\n",
    "def m(x,a,b):\n",
    "    return a + b*x\n",
    "\n",
    "# call scipy's curve fitting routine\n",
    "curve_fit(m,x,y)\n",
    "\n",
    "# returns the parameters and the covariance for the estimated parameters"
   ]
  },
  {
   "cell_type": "code",
   "execution_count": null,
   "metadata": {},
   "outputs": [],
   "source": [
    "# use the same data from above\n",
    "x = np.linspace(-3*np.pi,3*np.pi,20)\n",
    "noise = (np.random.random(20)*2 - 10) * 200\n",
    "y = x**3-6*x**2 + noise\n",
    "\n",
    "# must provide a model function, with independent variable as the first parameter\n",
    "def m(x,a,b):\n",
    "    return a + b*x\n",
    "\n",
    "# call scipy's curve fitting routine\n",
    "c = curve_fit(m,x,y)\n",
    "\n",
    "plt.plot(x,y,'ro',x,m(x,c[0][0],c[0][1]))"
   ]
  },
  {
   "cell_type": "code",
   "execution_count": null,
   "metadata": {},
   "outputs": [],
   "source": [
    "##\n",
    "## EXERCISE -> change this so that the curve fit is for a 3rd order polynomial\n",
    "##\n",
    "\n",
    "# use the same data from above\n",
    "x = np.linspace(-3*np.pi,3*np.pi,20)\n",
    "noise = (np.random.random(20)*2 - 10) * 200\n",
    "y = x**3-6*x**2 + noise\n",
    "\n",
    "# must provide a model function, with independent variable as the first parameter\n",
    "def m(x,a,b):\n",
    "    return a + b*x\n",
    "\n",
    "# call scipy's curve fitting routine\n",
    "c = curve_fit(m,x,y)\n",
    "\n",
    "plt.plot(x,y,'ro',x,m(x,c[0][0],c[0][1]))"
   ]
  },
  {
   "cell_type": "code",
   "execution_count": null,
   "metadata": {},
   "outputs": [],
   "source": [
    "# %load xercise-3curve.py"
   ]
  },
  {
   "cell_type": "markdown",
   "metadata": {},
   "source": [
    "# Interpolation"
   ]
  },
  {
   "cell_type": "code",
   "execution_count": null,
   "metadata": {},
   "outputs": [],
   "source": [
    "from scipy import interpolate"
   ]
  },
  {
   "cell_type": "code",
   "execution_count": null,
   "metadata": {},
   "outputs": [],
   "source": [
    "x = np.linspace(0,5*np.pi,20)\n",
    "noise = (np.random.random(20)*2 - 1) * 0.1\n",
    "y = np.sin(x) + noise\n",
    "plt.plot(x,y,'ro')"
   ]
  },
  {
   "cell_type": "code",
   "execution_count": null,
   "metadata": {},
   "outputs": [],
   "source": [
    "linear_interp = interpolate.interp1d(x, y)\n",
    "\n",
    "xlin = np.linspace(0, 5*np.pi, 200)\n",
    "ylin = linear_interp(xlin)\n",
    "\n",
    "plt.plot(x,y,'ro')\n",
    "plt.plot(xlin,ylin,'b-')"
   ]
  },
  {
   "cell_type": "code",
   "execution_count": null,
   "metadata": {},
   "outputs": [],
   "source": [
    "localinterp = interpolate.interp1d(x, y, 'cubic')\n",
    "\n",
    "xlocal = np.linspace(0, 5*np.pi, 200)\n",
    "ylocal = localinterp(xlocal)\n",
    "\n",
    "plt.plot(x,y,'ro')\n",
    "plt.plot(xlocal,ylocal,'b-')"
   ]
  },
  {
   "cell_type": "code",
   "execution_count": null,
   "metadata": {},
   "outputs": [],
   "source": [
    "interp_types = ['linear','nearest','zero','slinear',\n",
    "                'quadratic','cubic','previous','next']"
   ]
  },
  {
   "cell_type": "code",
   "execution_count": null,
   "metadata": {},
   "outputs": [],
   "source": [
    "def plotinterp(kindin='linear'):\n",
    "\n",
    "    localinterp = interpolate.interp1d(x, y, kind=kindin)\n",
    "\n",
    "    xnew = np.linspace(0, 5*np.pi, 200)\n",
    "    ynew = localinterp(xnew)\n",
    "\n",
    "    plt.plot(x,y,'ro')\n",
    "    plt.plot(xnew,ynew,'b-')\n",
    "    plt.show()\n",
    "    \n",
    "ipywidgets.interact(plotinterp,kindin=interp_types)"
   ]
  },
  {
   "cell_type": "markdown",
   "metadata": {},
   "source": [
    "## Higher dimensions, and irregularly spaced points"
   ]
  },
  {
   "cell_type": "code",
   "execution_count": null,
   "metadata": {},
   "outputs": [],
   "source": [
    "def f(x,y):\n",
    "    return np.sin(x) + np.cos(y)"
   ]
  },
  {
   "cell_type": "code",
   "execution_count": null,
   "metadata": {},
   "outputs": [],
   "source": [
    "x = np.linspace(0,4*np.pi,50)\n",
    "y = np.linspace(0,4*np.pi,50)\n",
    "X,Y = np.meshgrid(x,y)\n",
    "Z = f(X,Y)\n",
    "\n",
    "fig,ax = plt.subplots(figsize=(5,5))\n",
    "plt.contourf(X,Y,Z)"
   ]
  },
  {
   "cell_type": "code",
   "execution_count": null,
   "metadata": {},
   "outputs": [],
   "source": [
    "# \"measured data\"\n",
    "xdata = np.random.uniform(0,4*np.pi,100)\n",
    "ydata = np.random.uniform(0,4*np.pi,100)\n",
    "zdata = f(xdata,ydata)"
   ]
  },
  {
   "cell_type": "code",
   "execution_count": null,
   "metadata": {},
   "outputs": [],
   "source": [
    "fig,ax = plt.subplots(figsize=(5,5))\n",
    "plt.scatter(xdata, ydata, c=zdata)"
   ]
  },
  {
   "cell_type": "code",
   "execution_count": null,
   "metadata": {},
   "outputs": [],
   "source": [
    "x = np.linspace(0,4*np.pi,50)\n",
    "y = np.linspace(0,4*np.pi,50)\n",
    "X,Y = np.meshgrid(x,y)\n",
    "Z = f(X,Y)\n",
    "\n",
    "fig,ax = plt.subplots(figsize=(5,5))\n",
    "plt.contourf(X,Y,Z)\n",
    "plt.scatter(xdata, ydata, c=zdata, edgecolors='k')"
   ]
  },
  {
   "cell_type": "code",
   "execution_count": null,
   "metadata": {},
   "outputs": [],
   "source": [
    "Zinterp = interpolate.griddata((xdata, ydata), zdata, (X, Y), method='nearest')"
   ]
  },
  {
   "cell_type": "code",
   "execution_count": null,
   "metadata": {},
   "outputs": [],
   "source": [
    "Zinterp.shape"
   ]
  },
  {
   "cell_type": "code",
   "execution_count": null,
   "metadata": {},
   "outputs": [],
   "source": [
    "fig,ax = plt.subplots(figsize=(5,5))\n",
    "plt.contourf(X,Y,Zinterp)\n",
    "plt.scatter(xdata, ydata, c=zdata, edgecolors='k')"
   ]
  },
  {
   "cell_type": "code",
   "execution_count": null,
   "metadata": {},
   "outputs": [],
   "source": [
    "Zinterp = interpolate.griddata((xdata, ydata), zdata, (X, Y), method='linear')\n",
    "fig,ax = plt.subplots(figsize=(5,5))\n",
    "plt.contourf(X,Y,Zinterp)\n",
    "plt.scatter(xdata, ydata, c=zdata, edgecolors='k')"
   ]
  },
  {
   "cell_type": "code",
   "execution_count": null,
   "metadata": {},
   "outputs": [],
   "source": [
    "Zinterp = interpolate.griddata((xdata, ydata), zdata, (X, Y), method='cubic')\n",
    "fig,ax = plt.subplots(figsize=(5,5))\n",
    "plt.contourf(X,Y,Zinterp)\n",
    "plt.scatter(xdata, ydata, c=zdata, edgecolors='k')"
   ]
  },
  {
   "cell_type": "code",
   "execution_count": null,
   "metadata": {},
   "outputs": [],
   "source": [
    "Zinterp[0][0]"
   ]
  },
  {
   "cell_type": "code",
   "execution_count": null,
   "metadata": {},
   "outputs": [],
   "source": []
  }
 ],
 "metadata": {
  "kernelspec": {
   "display_name": "Python 3",
   "language": "python",
   "name": "python3"
  },
  "language_info": {
   "codemirror_mode": {
    "name": "ipython",
    "version": 3
   },
   "file_extension": ".py",
   "mimetype": "text/x-python",
   "name": "python",
   "nbconvert_exporter": "python",
   "pygments_lexer": "ipython3",
   "version": "3.8.5"
  },
  "toc": {
   "base_numbering": 1,
   "nav_menu": {},
   "number_sections": true,
   "sideBar": true,
   "skip_h1_title": false,
   "title_cell": "Table of Contents",
   "title_sidebar": "Contents",
   "toc_cell": false,
   "toc_position": {},
   "toc_section_display": true,
   "toc_window_display": false
  }
 },
 "nbformat": 4,
 "nbformat_minor": 4
}
